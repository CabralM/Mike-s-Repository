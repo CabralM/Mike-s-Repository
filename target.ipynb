{
 "cells": [
  {
   "cell_type": "markdown",
   "metadata": {},
   "source": [
    "The curves drawn below all start at the point $(1, 1)$ and at any point $(x, y)$ they have slope: \n",
    "$$m = \\dfrac{ay}{x^2}$$\n",
    "for a particular value of $a$. That is, each curve is drawn with its own value of $a$, or if you like, $a$ is a parameter that indexes different curves. For different values of $a$, the curve has different heights at $x = 5$. Your job is to find, as close as you can, the value of a for which the curve hits the “target” $(5, 5)$.\n"
   ]
  },
  {
   "cell_type": "code",
   "execution_count": 23,
   "metadata": {},
   "outputs": [
    {
     "data": {
      "image/png": "[encoded data removed]",
      "text/plain": [
       "<Figure size 432x288 with 1 Axes>"
      ]
     },
     "metadata": {},
     "output_type": "display_data"
    },
    {
     "data": {
      "text/plain": [
       "5.096801967979008"
      ]
     },
     "execution_count": 23,
     "metadata": {},
     "output_type": "execute_result"
    }
   ],
   "source": [
    "import math\n",
    "import matplotlib.pyplot as plt\n",
    "\n",
    "a=2                                              #Write a guess for a\n",
    "Number_of_partitions = 40                        #Number of times the for loop will run \n",
    "x=[1]                                            #starting point for x and y: (1,1)\n",
    "y=[1]\n",
    "\n",
    "for i in range(Number_of_partitions):            #Appends values to x and y depending on step size and slope at each point\n",
    "    x.append(x[i]+4/Number_of_partitions)\n",
    "    y.append(y[i] + a*y[i]/(x[i]**2)*4/Number_of_partitions)\n",
    "\n",
    "plt.plot(x,y)                                    #Setting up our plot\n",
    "plt.show()                                       #displaying plot\n",
    "y[Number_of_partitions]                          #displaying f(5) for our function"
   ]
  },
  {
   "cell_type": "code",
   "execution_count": null,
   "metadata": {},
   "outputs": [],
   "source": []
  },
  {
   "cell_type": "code",
   "execution_count": null,
   "metadata": {},
   "outputs": [],
   "source": []
  },
  {
   "cell_type": "code",
   "execution_count": null,
   "metadata": {},
   "outputs": [],
   "source": []
  }
 ],
 "metadata": {
  "kernelspec": {
   "display_name": "Python 3",
   "language": "python",
   "name": "python3"
  },
  "language_info": {
   "codemirror_mode": {
    "name": "ipython",
    "version": 3
   },
   "file_extension": ".py",
   "mimetype": "text/x-python",
   "name": "python",
   "nbconvert_exporter": "python",
   "pygments_lexer": "ipython3",
   "version": "3.6.5"
  }
 },
 "nbformat": 4,
 "nbformat_minor": 2
}
